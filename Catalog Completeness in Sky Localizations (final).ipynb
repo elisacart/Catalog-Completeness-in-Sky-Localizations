{
 "cells": [
  {
   "cell_type": "code",
   "execution_count": 1,
   "id": "11cad247",
   "metadata": {},
   "outputs": [],
   "source": [
    "from astropy.samp import SAMPIntegratedClient\n",
    "def samp_script_transmit(script):\n",
    "    \"\"\" Sending an Aladin script over SAMP.\n",
    "\n",
    "        Parameters\n",
    "        ----------\n",
    "        script : str\n",
    "        Aladin script command\n",
    "        \n",
    "        Returns\n",
    "        -------\n",
    "        Transmit a Aladin command when SAMP Hub is running.\n",
    "    \"\"\"\n",
    "    \n",
    "    client = SAMPIntegratedClient()\n",
    "    client.connect()\n",
    "    params = {}\n",
    "\n",
    "    message = {}\n",
    "    message [\"samp.mtype\"] = \"script.aladin.send\"\n",
    "    message [\"samp.params\"] = {'script': script}\n",
    "    \n",
    "    client.notify_all(message)\n",
    "    client.disconnect()"
   ]
  },
  {
   "cell_type": "code",
   "execution_count": 2,
   "id": "6d850451",
   "metadata": {},
   "outputs": [],
   "source": [
    "url= 'file:///home/elisa/Scaricati/all_skymaps/Publication/GW190425_PublicationSamples.fits'\n",
    "script = 'load ' + url\n",
    "from tkinter import messagebox\n",
    "\n",
    "try:\n",
    "    samp_script_transmit(script)\n",
    "except:\n",
    "    messagebox.showwarning(\"Title\", \"Before running a function, you have to define it through the 'def' command.\")\n",
    "    messagebox.showerror(\"Title\", \"Please, go back and run the code which defines 'samp_script_transmit'.\") \n",
    "    messagebox.showerror(\"Title\", \"Please, run Aladin.\")"
   ]
  },
  {
   "cell_type": "code",
   "execution_count": 3,
   "id": "b83af272",
   "metadata": {},
   "outputs": [
    {
     "data": {
      "text/plain": [
       "70136"
      ]
     },
     "execution_count": 3,
     "metadata": {},
     "output_type": "execute_result"
    }
   ],
   "source": [
    "from astroquery.vizier import VizierClass\n",
    "from astropy.coordinates import SkyCoord\n",
    "from ligo.skymap.io import read_sky_map\n",
    "from ligo.skymap.postprocess import crossmatch\n",
    "import numpy as np\n",
    "import matplotlib.pyplot as plt\n",
    "vizier = VizierClass(row_limit=-1, columns=['GWGC', 'Bmag', 'e_Bmag', '_RAJ2000', '_DEJ2000', 'Dist', 'e_Dist'])\n",
    "cat, = vizier.get_catalogs('VII/281/glade2')\n",
    "coordinates = SkyCoord(cat['_RAJ2000'], cat['_DEJ2000'], cat['Dist'])\n",
    "#prendo una delle skymap e applico crossmatch: ottengo lista delle galassie con probabilità 90%\n",
    "skymap= read_sky_map(url, moc=True)\n",
    "result = crossmatch(skymap, coordinates)\n",
    "#aggiungo alla tabella la probabilità di ogni galassia\n",
    "tabella=cat[result.searched_prob_vol < 0.9]\n",
    "tabella['dP-dV']=result.probdensity_vol[result.searched_prob_vol < 0.9].round(10)\n",
    "len(tabella)"
   ]
  },
  {
   "cell_type": "code",
   "execution_count": 4,
   "id": "158d3232",
   "metadata": {},
   "outputs": [
    {
     "name": "stdout",
     "output_type": "stream",
     "text": [
      "67057\n",
      "284.646114088\n"
     ]
    }
   ],
   "source": [
    "Bmag1=tabella['Bmag']\n",
    "Dist1=tabella['Dist'] \n",
    "senzaBmag=0 \n",
    "senzadist=0 \n",
    "Bmag=[] \n",
    "indici=[] \n",
    "Dist=[]\n",
    "\n",
    "for i in range(len(Bmag1)):\n",
    "    if type(Bmag1[i])==np.ma.core.MaskedConstant:\n",
    "        senzaBmag+=1 \n",
    "    else: \n",
    "        if type(Dist1[i])==np.ma.core.MaskedConstant: \n",
    "            senzadist+=1 \n",
    "        else: \n",
    "            Bmag.append(Bmag1[i]) \n",
    "            indici.append(i) \n",
    "            Dist.append(Dist1[i])\n",
    "\n",
    "print(len(Bmag)) \n",
    "print(max(Dist))"
   ]
  },
  {
   "cell_type": "code",
   "execution_count": 5,
   "id": "3f79858b",
   "metadata": {},
   "outputs": [],
   "source": [
    "d=np.array(Dist)\n",
    "m=np.array(Bmag)\n",
    "M=m-5*np.log10(d*(10**5))\n",
    "Lsole=3.83e33\n",
    "Msole=4.72\n",
    "L=Lsole*10**((Msole-M)/2.5)\n",
    "\n",
    "h=0.7\n",
    "Lb0=2.16e33\n",
    "Lb=1.2e10*(h**(-2))*Lb0\n",
    "xtot=L/Lb\n",
    "#definizione funzione schechter\n",
    "def Calculate_Shell_Size(r1,r2):\n",
    "    volume = (4./3. * pow(r2,3) * np.pi - 4./3. * pow(r1,3) * np.pi) # using the provided lum dist\n",
    "    return volume\n",
    "\n",
    "def Schechter(lum, r1, r2): # calculates the value of the integral of the schecter function with the provided data \n",
    "    volume = Calculate_Shell_Size(r1,r2)\n",
    "    sigma = phi * np.power(lum, alfa) * np.power(np.e,-lum) * volume * (0.7*0.7*0.7)##(0.7)^3 è il deltax?\n",
    "    return sigma\n",
    "\n",
    "h=0.7\n",
    "phi=(1.6e-2)*(h**3)\n",
    "a=-1.07\n",
    "alfa=-0.07\n",
    "skymap, header = read_sky_map(url)\n",
    "distmean=header['distmean']\n",
    "diststd=header['diststd']\n",
    "R1=distmean-3*diststd\n",
    "R2=distmean+3*diststd"
   ]
  },
  {
   "cell_type": "code",
   "execution_count": 6,
   "id": "cb4c8a29",
   "metadata": {},
   "outputs": [
    {
     "name": "stdout",
     "output_type": "stream",
     "text": [
      "67057\n",
      "66946\n"
     ]
    },
    {
     "data": {
      "image/png": "[encoded data removed]",
      "text/plain": [
       "<Figure size 600x400 with 1 Axes>"
      ]
     },
     "metadata": {
      "needs_background": "light"
     },
     "output_type": "display_data"
    }
   ],
   "source": [
    "x=[]\n",
    "for i in range(len(xtot)):\n",
    "    if d[i]>=R1:\n",
    "        if d[i]<=R2:\n",
    "            x.append(xtot[i])\n",
    "print(len(xtot))\n",
    "print(len(x))\n",
    "t=np.arange(0.0005, 10, 0.0001)\n",
    "xarrk=np.logspace(-3.3,1,100)\n",
    "Somme=[]\n",
    "#calcolo il numero di galassie con x contenuta in un intervallo\n",
    "for i in range(len(xarrk)-1):\n",
    "    Min=xarrk[i]\n",
    "    Max=xarrk[i+1]\n",
    "    somma=0\n",
    "    for j in range(len(x)):\n",
    "        if x[j]>=Min:\n",
    "            if x[j]<=Max:\n",
    "                somma+=1\n",
    "    if somma==0:\n",
    "        if i==0:\n",
    "            somma=0.1\n",
    "            Somme.append(somma)\n",
    "        else:\n",
    "            Somme.append(Somme[i-1])\n",
    "    else:\n",
    "        Somme.append(somma)\n",
    "xarrk_1=xarrk[1:]\n",
    "fig= plt.figure(dpi=100)\n",
    "plt.plot(np.log10(t), [np.log10(y) for y in Schechter(t, R1, R2)], 'r--', label='Schechter func.')\n",
    "plt.plot(np.log10(xarrk_1), np.log10(Somme), 'b-', label='luminosity distrib.')\n",
    "plt.title('Completeness for event GW190425')\n",
    "plt.legend(loc='lower center')\n",
    "plt.xlabel('log(Lb/Lb*)')\n",
    "plt.ylabel('log(N)')\n",
    "#plt.savefig('completezza evento.png', dpi=120)\n",
    "plt.show()"
   ]
  },
  {
   "cell_type": "code",
   "execution_count": 7,
   "id": "7acdd309",
   "metadata": {},
   "outputs": [],
   "source": [
    "dm=str(distmean)\n",
    "dstd=str(diststd)"
   ]
  },
  {
   "cell_type": "code",
   "execution_count": 8,
   "id": "26978ba3",
   "metadata": {},
   "outputs": [
    {
     "name": "stderr",
     "output_type": "stream",
     "text": [
      "/home/elisa/anaconda3/lib/python3.8/site-packages/healpy/fitsfunc.py:368: UserWarning: If you are not specifying the input dtype and using the default np.float64 dtype of read_map(), please consider that it will change in a future version to None as to keep the same dtype of the input file: please explicitly set the dtype if it is important to you.\n",
      "  warnings.warn(\n",
      "/home/elisa/anaconda3/lib/python3.8/site-packages/healpy/fitsfunc.py:391: UserWarning: NSIDE = 512\n",
      "  warnings.warn(\"NSIDE = {0:d}\".format(nside))\n",
      "/home/elisa/anaconda3/lib/python3.8/site-packages/healpy/fitsfunc.py:400: UserWarning: ORDERING = NESTED in fits file\n",
      "  warnings.warn(\"ORDERING = {0:s} in fits file\".format(ordering))\n",
      "/home/elisa/anaconda3/lib/python3.8/site-packages/healpy/fitsfunc.py:428: UserWarning: INDXSCHM = IMPLICIT\n",
      "  warnings.warn(\"INDXSCHM = {0:s}\".format(schm))\n"
     ]
    },
    {
     "name": "stdout",
     "output_type": "stream",
     "text": [
      "  % Total    % Received % Xferd  Average Speed   Time    Time     Time  Current\n",
      "                                 Dload  Upload   Total   Spent    Left  Speed\n",
      "  0     0    0     0    0     0      0      0 --:--:--  0:00:19 --:--:--     0curl: (6) Could not resolve host: gracedb.ligo.org\n",
      "The intersection sky area is 1263.30 sq. deg.\n"
     ]
    }
   ],
   "source": [
    "import numpy as np\n",
    "import mocpy\n",
    "import healpy as hp\n",
    "from mocpy import MOC\n",
    "\n",
    "# Read Galactic Dust Reddening frpm CADE data server\n",
    "ext_map,h = hp.read_map('http://cade.irap.omp.eu/documents/Ancillary/EBV_SFD98/EBV_SFD98_1_512.fits', nest=True, h=True)\n",
    "\n",
    "# Set pixel range from 0.5 up to the highest value.\n",
    "index = np.nonzero((ext_map >= 0.5)& (ext_map <= 1000))\n",
    "\n",
    "# set MOC order\n",
    "depth=9\n",
    "\n",
    "# Create and write a MOC from Galactic Dust Reddening\n",
    "moc_low_ext = mocpy.MOC.from_healpix_cells(index[0],  np.ones_like(index[0])*depth)\n",
    "moc_low_ext.write('ext_map.fits', overwrite=True)\n",
    "\n",
    "# Download  sky map of GW190425 from GraceDB.\n",
    "!curl -O https://gracedb.ligo.org/api/superevents/S190425z/files/bayestar.fits.gz\n",
    "\n",
    "# Define the 90% credible region \n",
    "!ligo-skymap-contour-moc bayestar.fits.gz  -c 90  --output 'GW190425_90cr.fits'\n",
    "\n",
    "# Load MOC files\n",
    "GW190425_90cr = MOC.from_fits('GW190425_90cr.fits')\n",
    "ext_map = MOC.from_fits('ext_map.fits')\n",
    "# Measure intersection\n",
    "intersection = GW190425_90cr.intersection(ext_map)\n",
    "\n",
    "intersection_area = intersection.sky_fraction*41253\n",
    "print('The intersection sky area is {:.2f} sq. deg.'.format(intersection_area))"
   ]
  },
  {
   "cell_type": "code",
   "execution_count": 9,
   "id": "a421bff4",
   "metadata": {},
   "outputs": [],
   "source": [
    "import tkinter\n",
    "from pandas import DataFrame\n",
    "from matplotlib.backends.backend_tkagg import (\n",
    "    FigureCanvasTkAgg, NavigationToolbar2Tk)\n",
    "# Implement the default Matplotlib key bindings.\n",
    "from matplotlib.backend_bases import key_press_handler\n",
    "from matplotlib.figure import Figure\n",
    "\n",
    "def embed_matlib(figure):\n",
    "    root = tkinter.Tk()\n",
    "    root.wm_title(\"Embedding in Tk\")\n",
    "    canvas = FigureCanvasTkAgg(figure, master=root)  # A tk.DrawingArea.\n",
    "    canvas.draw()\n",
    "    canvas.get_tk_widget().pack(side=tkinter.TOP, fill=tkinter.BOTH, expand=1)\n",
    "\n",
    "    #toolbar = NavigationToolbar2Tk(canvas, root)\n",
    "    #toolbar.update()\n",
    "    #canvas.get_tk_widget().pack(side=tkinter.TOP, fill=tkinter.BOTH, expand=1)\n",
    "\n",
    "    def _quit():\n",
    "        root.quit()     # stops mainloop\n",
    "        root.destroy()  # this is necessary on Windows to prevent\n",
    "                    # Fatal Python Error: PyEval_RestoreThread: NULL tstate\n",
    "\n",
    "    #label = tkinter.Label(text='Your current Sky Map is: ' + url, height=4)\n",
    "    #label.pack(side=tkinter.TOP)\n",
    "    \n",
    "    labelText = tkinter.StringVar()\n",
    "    labelText.set('Mean distance='+dm + '\\n'\n",
    "                  'Standard deviation of distance='+dstd + '\\n'\n",
    "                  'Intersection area= {:.2f} sq. deg.'.format(intersection_area) + '\\n'\n",
    "                  'Your current Sky Map is available here:\\n' + url)\n",
    "    labelDir = tkinter.Label(textvariable = labelText, height=5)\n",
    "    labelDir.pack(side=tkinter.TOP)\n",
    "    \n",
    "    button = tkinter.Button(master=root, text=\"Quit\", command=_quit)\n",
    "    button.pack(side=tkinter.BOTTOM)\n",
    "\n",
    "    tkinter.mainloop()"
   ]
  },
  {
   "cell_type": "code",
   "execution_count": 10,
   "id": "7e75bd23",
   "metadata": {},
   "outputs": [],
   "source": [
    "embed_matlib(fig)"
   ]
  },
  {
   "cell_type": "code",
   "execution_count": null,
   "id": "5667b48e",
   "metadata": {},
   "outputs": [],
   "source": []
  }
 ],
 "metadata": {
  "kernelspec": {
   "display_name": "Python 3 (ipykernel)",
   "language": "python",
   "name": "python3"
  },
  "language_info": {
   "codemirror_mode": {
    "name": "ipython",
    "version": 3
   },
   "file_extension": ".py",
   "mimetype": "text/x-python",
   "name": "python",
   "nbconvert_exporter": "python",
   "pygments_lexer": "ipython3",
   "version": "3.8.10"
  }
 },
 "nbformat": 4,
 "nbformat_minor": 5
}
